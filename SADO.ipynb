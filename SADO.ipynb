{
 "cells": [
  {
   "cell_type": "markdown",
   "id": "fc9a52d3",
   "metadata": {},
   "source": [
    "# SADO Expert System"
   ]
  },
  {
   "cell_type": "code",
   "execution_count": 1,
   "id": "c2a8ad7d",
   "metadata": {},
   "outputs": [],
   "source": [
    "from experta import *"
   ]
  },
  {
   "cell_type": "markdown",
   "id": "4364c37c",
   "metadata": {},
   "source": [
    "### Facts"
   ]
  },
  {
   "cell_type": "code",
   "execution_count": 47,
   "id": "08d9ee5f",
   "metadata": {},
   "outputs": [],
   "source": [
    "class Age(Fact):\n",
    "    pass\n",
    "\n",
    "class Height(Fact):\n",
    "    pass\n",
    "\n",
    "class Weight(Fact):\n",
    "    pass\n",
    "\n",
    "class Gender(Fact):\n",
    "    pass\n",
    "\n",
    "class Calories(Fact):\n",
    "    pass\n",
    "\n",
    "class Competing(Fact):\n",
    "    pass\n",
    "\n",
    "class MenuSet(Fact):\n",
    "    foodSet = Field(str, mandatory=True)\n",
    "    food = Field(str, mandatory=True)\n",
    "    calories = Field(float, mandatory=True)\n",
    "\n",
    "class Ask(Fact):\n",
    "    pass"
   ]
  },
  {
   "cell_type": "markdown",
   "id": "35bbb411",
   "metadata": {},
   "source": [
    "## DefFacts & Rules"
   ]
  },
  {
   "cell_type": "code",
   "execution_count": 53,
   "id": "91eeb244",
   "metadata": {},
   "outputs": [],
   "source": [
    "class SADO(KnowledgeEngine):\n",
    "    @DefFacts()\n",
    "    def sado_rules(self):\n",
    "        ''' set facts for all food set '''\n",
    "        yield MenuSet(foodSet=\"A\",food=\"Nasi Lemak\",calories=120.0)\n",
    "        yield MenuSet(foodSet=\"B\",food=\"Roti Canai\",calories=292.5)\n",
    "        yield MenuSet(foodSet=\"C\",food=\"Nasi Kerabu\",calories=345.0)\n",
    "    \n",
    "    @Rule()\n",
    "    def startup(self):\n",
    "        ''' input age, height, weight and gender for calories and bmi '''\n",
    "        print(\"Welcome to SADO system\")\n",
    "        questionAge = \"Please enter your age: \"\n",
    "        resAge = input(questionAge).lower()\n",
    "        questionHeight = \"Please enter your height: \"\n",
    "        resHeight = input(questionHeight).lower()\n",
    "        questionWeight = \"Please enter your weight: \"\n",
    "        resWeight = input(questionWeight).lower()\n",
    "        questionGender = \"Please enter your gender: \"\n",
    "        resGender = input(questionGender).lower()\n",
    "        self.declare(Age(resAge))\n",
    "        self.declare(Height(resHeight))\n",
    "        self.declare(Weight(resWeight))\n",
    "        self.declare(Gender(resGender))\n",
    "        \n",
    "    @Rule(AS.f1 << Gender(MATCH.g),\n",
    "          AS.f2 << Age(MATCH.a),\n",
    "          AS.f3 << Height(MATCH.h),\n",
    "          AS.f4 << Weight(MATCH.w))\n",
    "    def gender(self, g, a, h, w):\n",
    "        ''' if male/female, count calories with formula for each gender, then ask if competing '''\n",
    "        if(g == \"male\"):\n",
    "            self.declare(Calories((10*int(w))+(6.25*int(h))-(5*int(a))+5))\n",
    "            print(\"You are a \" + g)\n",
    "        elif(g ==\"female\"):\n",
    "            self.declare(Calories((10*int(w))+(6.25*int(h))-(5*int(a))+161))\n",
    "            print(\"You are a \" + g)\n",
    "        else:\n",
    "            print(\"Invalid gender lul\")\n",
    "        self.declare(Ask(\"competition-participation\"))\n",
    "            \n",
    "    @Rule(AS.f1 << Ask(\"competition-participation\"))\n",
    "    def is_competing(self):\n",
    "        ''' determine if competing or not '''\n",
    "        resCompeting = input(\"Are you participating in a competition? [y/n] : \")\n",
    "        self.declare(Competing(resCompeting))\n",
    "        if(resCompeting == 'y'):\n",
    "            print(\"You are competing!\")\n",
    "        elif(resCompeting == 'n'):\n",
    "            print(\"You are not competing!\")\n",
    "            \n",
    "    @Rule(AS.f1 << Calories(MATCH.c),\n",
    "          MenuSet(foodSet = MATCH.fs,\n",
    "                  food = MATCH.f,\n",
    "                  calories = MATCH.c))\n",
    "    def calorie_needs(self, c, fs, f):\n",
    "        ''' determine menu for each meal planning '''\n",
    "        print(\"You need\", c  ,\"kcal per day!\")\n",
    "        print(\"You are recommended to eat set \" + fs)\n",
    "        print(\"Set \" + fs + \": \")\n",
    "        print(f)"
   ]
  },
  {
   "cell_type": "code",
   "execution_count": 54,
   "id": "199f2173",
   "metadata": {},
   "outputs": [
    {
     "name": "stdout",
     "output_type": "stream",
     "text": [
      "Welcome to SADO system\n",
      "Please enter your age: 20\n",
      "Please enter your height: 30\n",
      "Please enter your weight: 20\n",
      "Please enter your gender: male\n",
      "You are a male\n",
      "Are you participating in a competition? [y/n] : y\n",
      "You are competing!\n",
      "You need 292.5 kcal per day!\n",
      "You are recommended to eat set B\n",
      "Set B: \n",
      "Roti Canai\n"
     ]
    }
   ],
   "source": [
    "sado = SADO()\n",
    "sado.reset()\n",
    "sado.run()"
   ]
  },
  {
   "cell_type": "code",
   "execution_count": 55,
   "id": "9c4a157e",
   "metadata": {},
   "outputs": [
    {
     "data": {
      "text/plain": [
       "FactList([(0, InitialFact()),\n",
       "          (1, MenuSet(foodSet='A', food='Nasi Lemak', calories=120.0)),\n",
       "          (2, MenuSet(foodSet='B', food='Roti Canai', calories=292.5)),\n",
       "          (3, MenuSet(foodSet='C', food='Nasi Kerabu', calories=345.0)),\n",
       "          (4, Age('20')),\n",
       "          (5, Height('30')),\n",
       "          (6, Weight('20')),\n",
       "          (7, Gender('male')),\n",
       "          (8, Calories(292.5)),\n",
       "          (9, Ask('competition-participation')),\n",
       "          (10, Competing('y'))])"
      ]
     },
     "execution_count": 55,
     "metadata": {},
     "output_type": "execute_result"
    }
   ],
   "source": [
    "sado.facts"
   ]
  },
  {
   "cell_type": "code",
   "execution_count": null,
   "id": "22f7216d",
   "metadata": {},
   "outputs": [],
   "source": []
  }
 ],
 "metadata": {
  "kernelspec": {
   "display_name": "Python 3",
   "language": "python",
   "name": "python3"
  },
  "language_info": {
   "codemirror_mode": {
    "name": "ipython",
    "version": 3
   },
   "file_extension": ".py",
   "mimetype": "text/x-python",
   "name": "python",
   "nbconvert_exporter": "python",
   "pygments_lexer": "ipython3",
   "version": "3.9.1"
  }
 },
 "nbformat": 4,
 "nbformat_minor": 5
}
